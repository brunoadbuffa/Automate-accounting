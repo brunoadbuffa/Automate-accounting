{
 "cells": [
  {
   "cell_type": "markdown",
   "id": "b4f0863d",
   "metadata": {},
   "source": [
    "# Automated Accounting\n",
    "\n",
    "El evento de asociar un pago o cobro con un documento pendiente de pagar o de cobrar se llama conciliación bancaria o liquidación de facturas. Al marcar como pagada una factura, esta genera un evento en contabilidad llamado asiento.\n",
    "\n",
    "El siguiente notebook consistirá en plantear y desarrollar las técnicas/modelo útiles para conseguir efectuar lo anterior de manera automática, relacionando las facturas y transacciones o dejando transacciones sin relación porque son asientos directos.\n",
    "\n",
    "* **No todas las transacciones bancarias pagan una factura**. Por ejemplo, un pago de una comisión, de las nóminas, de un impuesto... no se gestiona con un documento asociado y se realiza un asiento directo contra una cuenta contable.\n",
    "\n",
    "* **Una transacción bancaria puede pagar N facturas**\n",
    "\n",
    "* **Varias transacciones bancarias pueden pagar una factura**. Por ejemplo, si se hace un pago parcial de una factura y luego te abonan el resto.\n",
    "\n",
    "* **Una transacción bancaria puede dividirse**. Por ejemplo, si pagas una factura en otra divisa, la diferencia de tipo de cambio te la llevas a una cuenta contable. O si pagas una comisión por haber pagado esa factura.\n",
    "\n",
    "\n",
    "#### Transactions\n",
    "\n",
    "Extracto de transacciones bancarias (transactions.csv) de diferentes cuentas corrientes de un cliente ficticio.\n",
    "\n",
    "- id: identificador único en la base de datos\n",
    "- fecha: fecha de valor de la transacción bancaria\n",
    "- importe: cantidad de la transacción bancaria. (-) denota salida de dinero, (+) entrada\n",
    "- concepto: concepto de la transacción\n",
    "- banco: banco origen de la transacción\n",
    "- divisa: divisa de la transacción\n",
    "- categoria: categoría de tesorería de la transacción bancaria\n",
    "\n",
    "\n",
    "#### Invoices\n",
    "\n",
    "Extracto de documentos (facturas y remesas) pendientes de pagar y de cobrar leidos del sistema de contabilidad del cliente.\n",
    "\n",
    "- id: identificador del documento correspondiente\n",
    "- fecha_vencimiento: fecha de vencimiento de dicha factura, denota el último día en el que se puede pagar y cobrar (teóricamente).\n",
    "- nombre_cliente: nombre del cliente o proveedor al que está asociada esa factura. Las remesas tienen por defecto el cliente \"REMESASBANCOS\".\n",
    "- fecha_emision: fecha en la que se emitió el documento\n",
    "- importe: cantidad del documento. (-) denota salida de dinero, (+) entrada\n",
    "\n",
    "* Muchas empresas pagan N días determinados al mes, por lo que es muy común ver facturas vencidas pagándose después, porque se reciben en los días de pago de tu cliente o las pagas en tu día de pago mensual.\n",
    "\n",
    "\n",
    "**Algoritmo de contabilización**\n",
    "\n",
    "1. **Pre-procesamiento**: ¿Cómo harías para relacionar las transacciones bancarias con las facturas? Aplica las técnicas de limpieza, normalización, etc que consideres que ayudan para la relación.\n",
    "\n",
    "2. **Relación**: ¿Cómo harías para tener en cuenta todos los casos, 1:N, 1:1, N:1, parciales? Desarrolla tu propio método para establecer relaciones entre ambos datasets a fin de cerrar los documentos pendientes."
   ]
  },
  {
   "cell_type": "markdown",
   "id": "c62c537a",
   "metadata": {},
   "source": [
    "\n",
    "# Solución"
   ]
  },
  {
   "cell_type": "markdown",
   "id": "3a1c6b29",
   "metadata": {},
   "source": [
    "#### Inicialización del proceso, carga de los datasets y primera visualización de los datos"
   ]
  },
  {
   "cell_type": "code",
   "execution_count": 106,
   "id": "dec20c71",
   "metadata": {},
   "outputs": [],
   "source": [
    "import pandas as pd\n",
    "from datetime import timedelta\n",
    "import os\n",
    "from typing import Dict, List, Tuple, Union\n",
    "\n",
    "# Cargar datos\n",
    "invoices = pd.read_csv(\"invoices.csv\")\n",
    "transactions = pd.read_csv(\"transactions.csv\")\n"
   ]
  },
  {
   "cell_type": "code",
   "execution_count": 108,
   "id": "d215f396",
   "metadata": {},
   "outputs": [
    {
     "name": "stdout",
     "output_type": "stream",
     "text": [
      "FACTURAS \n",
      "            id fecha_vencimiento divisa    nombre_cliente fecha_emision  \\\n",
      "0    10002183        2022-10-04    EUR     REMESASBANCOS    2022-10-04   \n",
      "1  FSABV-2679        2023-03-14    EUR  Pluvisilva, S.L.    2022-12-14   \n",
      "2    10002205        2022-10-28    EUR     REMESASBANCOS    2022-10-28   \n",
      "3    10002227        2022-11-30    EUR     REMESASBANCOS    2022-11-30   \n",
      "4    10002238        2022-12-19    EUR     REMESASBANCOS    2022-12-19   \n",
      "\n",
      "    importe            concepto  \n",
      "0  -9269,25   Remesa 04-10-2022  \n",
      "1     -2856  Honorarios 4T 2022  \n",
      "2  -2674,69   Remesa 28-10-2022  \n",
      "3  -2674,69   Remesa 30-11-2022  \n",
      "4  -2447,42   Remesa 19-12-2022  \n",
      "\n",
      "\n",
      "TRANSACCIONES \n",
      "     id   importe       fecha  \\\n",
      "0  141   -5722,3  2022-12-20   \n",
      "1   92     -4488  2022-10-04   \n",
      "2  244   -3739,9  2022-12-20   \n",
      "3  240  -2861,33  2022-10-04   \n",
      "4   18     -2856  2022-10-04   \n",
      "\n",
      "                                            concepto            banco divisa  \\\n",
      "0                      TRANSFERENCIA A FAVOR DE MARC  Banco Santander    EUR   \n",
      "1  PAGO TRASPASOS, 1103-55-0000058-06 000982 0000...        Caixabank    EUR   \n",
      "2  TRANSFERENCIA A FAVOR DE TONI CONCEPTO: 11o Pa...  Banco Santander    EUR   \n",
      "3                      TRANSFERENCIA A FAVOR DE MARC  Banco Santander    EUR   \n",
      "4  PAGO TRASPASOS, 1103-55-0000058-06 000981 0000...        Caixabank    EUR   \n",
      "\n",
      "                         categoria  \n",
      "0  Acciones Cia/Inver Part/Consejo  \n",
      "1  Acciones Cia/Inver Part/Consejo  \n",
      "2  Acciones Cia/Inver Part/Consejo  \n",
      "3  Acciones Cia/Inver Part/Consejo  \n",
      "4  Acciones Cia/Inver Part/Consejo  \n"
     ]
    }
   ],
   "source": [
    "print('FACTURAS', '\\n', invoices.head())\n",
    "print('\\n')\n",
    "print('TRANSACCIONES', '\\n',transactions.head())\n"
   ]
  },
  {
   "cell_type": "code",
   "execution_count": 109,
   "id": "4ac63ae9",
   "metadata": {},
   "outputs": [
    {
     "name": "stdout",
     "output_type": "stream",
     "text": [
      "FACTURAS\n",
      "<class 'pandas.core.frame.DataFrame'>\n",
      "RangeIndex: 156 entries, 0 to 155\n",
      "Data columns (total 7 columns):\n",
      " #   Column             Non-Null Count  Dtype \n",
      "---  ------             --------------  ----- \n",
      " 0   id                 156 non-null    object\n",
      " 1   fecha_vencimiento  156 non-null    object\n",
      " 2   divisa             156 non-null    object\n",
      " 3   nombre_cliente     152 non-null    object\n",
      " 4   fecha_emision      156 non-null    object\n",
      " 5   importe            156 non-null    object\n",
      " 6   concepto           156 non-null    object\n",
      "dtypes: object(7)\n",
      "memory usage: 8.7+ KB\n",
      "\n",
      "TRANSACCIONES\n",
      "<class 'pandas.core.frame.DataFrame'>\n",
      "RangeIndex: 285 entries, 0 to 284\n",
      "Data columns (total 7 columns):\n",
      " #   Column     Non-Null Count  Dtype \n",
      "---  ------     --------------  ----- \n",
      " 0   id         285 non-null    int64 \n",
      " 1   importe    285 non-null    object\n",
      " 2   fecha      285 non-null    object\n",
      " 3   concepto   285 non-null    object\n",
      " 4   banco      285 non-null    object\n",
      " 5   divisa     285 non-null    object\n",
      " 6   categoria  285 non-null    object\n",
      "dtypes: int64(1), object(6)\n",
      "memory usage: 15.7+ KB\n"
     ]
    }
   ],
   "source": [
    "print('FACTURAS')\n",
    "invoices.info()\n",
    "print('\\n' 'TRANSACCIONES')\n",
    "transactions.info()"
   ]
  },
  {
   "cell_type": "code",
   "execution_count": 110,
   "id": "a31bdd47",
   "metadata": {},
   "outputs": [
    {
     "data": {
      "text/html": [
       "<div>\n",
       "<style scoped>\n",
       "    .dataframe tbody tr th:only-of-type {\n",
       "        vertical-align: middle;\n",
       "    }\n",
       "\n",
       "    .dataframe tbody tr th {\n",
       "        vertical-align: top;\n",
       "    }\n",
       "\n",
       "    .dataframe thead th {\n",
       "        text-align: right;\n",
       "    }\n",
       "</style>\n",
       "<table border=\"1\" class=\"dataframe\">\n",
       "  <thead>\n",
       "    <tr style=\"text-align: right;\">\n",
       "      <th></th>\n",
       "      <th>id</th>\n",
       "      <th>fecha_vencimiento</th>\n",
       "      <th>divisa</th>\n",
       "      <th>nombre_cliente</th>\n",
       "      <th>fecha_emision</th>\n",
       "      <th>importe</th>\n",
       "      <th>concepto</th>\n",
       "    </tr>\n",
       "  </thead>\n",
       "  <tbody>\n",
       "    <tr>\n",
       "      <th>count</th>\n",
       "      <td>156</td>\n",
       "      <td>156</td>\n",
       "      <td>156</td>\n",
       "      <td>152</td>\n",
       "      <td>156</td>\n",
       "      <td>156</td>\n",
       "      <td>156</td>\n",
       "    </tr>\n",
       "    <tr>\n",
       "      <th>unique</th>\n",
       "      <td>156</td>\n",
       "      <td>67</td>\n",
       "      <td>1</td>\n",
       "      <td>61</td>\n",
       "      <td>58</td>\n",
       "      <td>114</td>\n",
       "      <td>143</td>\n",
       "    </tr>\n",
       "    <tr>\n",
       "      <th>top</th>\n",
       "      <td>10002183</td>\n",
       "      <td>2022-12-01</td>\n",
       "      <td>EUR</td>\n",
       "      <td>REMESASBANCOS</td>\n",
       "      <td>2022-10-01</td>\n",
       "      <td>-49,13</td>\n",
       "      <td>Kilos de Carton</td>\n",
       "    </tr>\n",
       "    <tr>\n",
       "      <th>freq</th>\n",
       "      <td>1</td>\n",
       "      <td>18</td>\n",
       "      <td>156</td>\n",
       "      <td>11</td>\n",
       "      <td>18</td>\n",
       "      <td>3</td>\n",
       "      <td>4</td>\n",
       "    </tr>\n",
       "  </tbody>\n",
       "</table>\n",
       "</div>"
      ],
      "text/plain": [
       "              id fecha_vencimiento divisa nombre_cliente fecha_emision  \\\n",
       "count        156               156    156            152           156   \n",
       "unique       156                67      1             61            58   \n",
       "top     10002183        2022-12-01    EUR  REMESASBANCOS    2022-10-01   \n",
       "freq           1                18    156             11            18   \n",
       "\n",
       "       importe         concepto  \n",
       "count      156              156  \n",
       "unique     114              143  \n",
       "top     -49,13  Kilos de Carton  \n",
       "freq         3                4  "
      ]
     },
     "execution_count": 110,
     "metadata": {},
     "output_type": "execute_result"
    }
   ],
   "source": [
    "invoices.describe()"
   ]
  },
  {
   "cell_type": "code",
   "execution_count": 111,
   "id": "57bf4a6a",
   "metadata": {},
   "outputs": [
    {
     "data": {
      "text/html": [
       "<div>\n",
       "<style scoped>\n",
       "    .dataframe tbody tr th:only-of-type {\n",
       "        vertical-align: middle;\n",
       "    }\n",
       "\n",
       "    .dataframe tbody tr th {\n",
       "        vertical-align: top;\n",
       "    }\n",
       "\n",
       "    .dataframe thead th {\n",
       "        text-align: right;\n",
       "    }\n",
       "</style>\n",
       "<table border=\"1\" class=\"dataframe\">\n",
       "  <thead>\n",
       "    <tr style=\"text-align: right;\">\n",
       "      <th></th>\n",
       "      <th>importe</th>\n",
       "      <th>fecha</th>\n",
       "      <th>concepto</th>\n",
       "      <th>banco</th>\n",
       "      <th>divisa</th>\n",
       "      <th>categoria</th>\n",
       "    </tr>\n",
       "  </thead>\n",
       "  <tbody>\n",
       "    <tr>\n",
       "      <th>count</th>\n",
       "      <td>285</td>\n",
       "      <td>285</td>\n",
       "      <td>285</td>\n",
       "      <td>285</td>\n",
       "      <td>285</td>\n",
       "      <td>285</td>\n",
       "    </tr>\n",
       "    <tr>\n",
       "      <th>unique</th>\n",
       "      <td>218</td>\n",
       "      <td>63</td>\n",
       "      <td>231</td>\n",
       "      <td>3</td>\n",
       "      <td>1</td>\n",
       "      <td>18</td>\n",
       "    </tr>\n",
       "    <tr>\n",
       "      <th>top</th>\n",
       "      <td>108,9</td>\n",
       "      <td>2022-10-04</td>\n",
       "      <td>RECIBO /SV Internet S.L.</td>\n",
       "      <td>Caixabank</td>\n",
       "      <td>EUR</td>\n",
       "      <td>Pago Proveedores</td>\n",
       "    </tr>\n",
       "    <tr>\n",
       "      <th>freq</th>\n",
       "      <td>4</td>\n",
       "      <td>19</td>\n",
       "      <td>11</td>\n",
       "      <td>216</td>\n",
       "      <td>285</td>\n",
       "      <td>153</td>\n",
       "    </tr>\n",
       "  </tbody>\n",
       "</table>\n",
       "</div>"
      ],
      "text/plain": [
       "       importe       fecha                  concepto      banco divisa  \\\n",
       "count      285         285                       285        285    285   \n",
       "unique     218          63                       231          3      1   \n",
       "top      108,9  2022-10-04  RECIBO /SV Internet S.L.  Caixabank    EUR   \n",
       "freq         4          19                        11        216    285   \n",
       "\n",
       "               categoria  \n",
       "count                285  \n",
       "unique                18  \n",
       "top     Pago Proveedores  \n",
       "freq                 153  "
      ]
     },
     "execution_count": 111,
     "metadata": {},
     "output_type": "execute_result"
    }
   ],
   "source": [
    "transactions[[col for col in transactions.columns if col != 'id']].describe()"
   ]
  },
  {
   "cell_type": "markdown",
   "id": "391d27ec",
   "metadata": {},
   "source": [
    "#### Pre-procesamiento de las datos\n",
    "\n",
    "* Normalización de nombres\n",
    "* Creación de un identificador único para todas las facturas\n",
    "* EDA"
   ]
  },
  {
   "cell_type": "code",
   "execution_count": 112,
   "id": "023ad197",
   "metadata": {},
   "outputs": [],
   "source": [
    "def normalize_names(dataframe: pd.DataFrame, column_name: str) -> None:\n",
    "    \"\"\"\n",
    "    Normalize the values in the specified column of a dataframe.\n",
    "\n",
    "    Parameters:\n",
    "    dataframe (pd.DataFrame): The dataframe containing the column to be normalized.\n",
    "    column_name (str): The name of the column to be normalized.\n",
    "\n",
    "    Returns:\n",
    "    None\n",
    "    \"\"\"\n",
    "    # Convierte los nombres a minúsculas\n",
    "    dataframe[column_name] = dataframe[column_name].str.lower()\n",
    "    # Elimina espacios en blanco al principio y al final\n",
    "    dataframe[column_name] = dataframe[column_name].str.strip()\n",
    "    # Remueve caracteres especiales o acentos\n",
    "    dataframe[column_name] = dataframe[column_name].str.normalize('NFKD').str.encode('ascii', errors='ignore').str.decode('utf-8')\n",
    "\n",
    "# Normalizar 'nombre_cliente', 'concepto' y 'id' en invoices\n",
    "normalize_names(invoices, 'nombre_cliente')\n",
    "normalize_names(invoices, 'concepto')\n",
    "normalize_names(invoices, 'id')\n",
    "\n",
    "# Normalizar 'concepto' en transactions\n",
    "normalize_names(transactions, 'concepto')"
   ]
  },
  {
   "cell_type": "markdown",
   "id": "8d938a71",
   "metadata": {},
   "source": [
    "Entre las primeras cosas que realizamos es crear una nueva columna en los datos de las facturas para usar como identificador único"
   ]
  },
  {
   "cell_type": "code",
   "execution_count": 113,
   "id": "9e4d9bce",
   "metadata": {},
   "outputs": [],
   "source": [
    "if not os.path.isfile('invoices_with_hash.csv'):    \n",
    "    # Se crea un \"hash\" de cada factura basado en su \"id\" y \"nombre_cliente\"\n",
    "    invoices['hash'] = invoices['id'].astype(str) + '##' + invoices['nombre_cliente'].astype(str)\n",
    "\n",
    "    # Guarda el conjunto de datos actualizado\n",
    "    column_order = ['hash'] + [col for col in invoices.columns if col != 'hash']\n",
    "    invoices = invoices[column_order]\n",
    "    invoices.to_csv('invoices_with_hash.csv', index=False)\n",
    "else:\n",
    "    invoices = pd.read_csv(\"invoices_with_hash.csv\")"
   ]
  },
  {
   "cell_type": "code",
   "execution_count": 114,
   "id": "1e6a8dc0",
   "metadata": {},
   "outputs": [],
   "source": [
    "invoices['fecha_vencimiento'] = pd.to_datetime(invoices['fecha_vencimiento'])\n",
    "invoices['fecha_emision'] = pd.to_datetime(invoices['fecha_emision'])\n",
    "transactions['fecha'] = pd.to_datetime(transactions['fecha'])\n",
    "\n",
    "invoices['importe'] = invoices['importe'].map(lambda val: val.replace(',', '.')).astype(float)\n",
    "transactions['importe'] = transactions['importe'].map(lambda val: val.replace(',', '.')).astype(float)\n"
   ]
  },
  {
   "cell_type": "markdown",
   "id": "44cf1e19",
   "metadata": {},
   "source": [
    "#### EDA\n",
    "Ahora que tenemos los tipos de datos \"correctos\" podemos volver a observar características de nuestros datos"
   ]
  },
  {
   "cell_type": "code",
   "execution_count": 115,
   "id": "ba631f16",
   "metadata": {},
   "outputs": [
    {
     "name": "stdout",
     "output_type": "stream",
     "text": [
      "            importe\n",
      "count    156.000000\n",
      "mean     202.697821\n",
      "std     3363.887059\n",
      "min    -9269.250000\n",
      "25%     -262.552500\n",
      "50%      -46.865000\n",
      "75%       -7.600000\n",
      "max    24653.990000\n",
      "               id        importe\n",
      "count  285.000000     285.000000\n",
      "mean   143.000000     648.519965\n",
      "std     82.416625    9475.016713\n",
      "min      1.000000   -8290.050000\n",
      "25%     72.000000    -415.590000\n",
      "50%    143.000000     -52.300000\n",
      "75%    214.000000      -7.600000\n",
      "max    285.000000  148459.000000\n"
     ]
    }
   ],
   "source": [
    "print(invoices.describe())\n",
    "\n",
    "print(transactions.describe())"
   ]
  },
  {
   "cell_type": "code",
   "execution_count": 116,
   "metadata": {},
   "outputs": [
    {
     "data": {
      "image/png": "[encoded data removed]",
      "text/plain": [
       "<Figure size 1100x600 with 1 Axes>"
      ]
     },
     "metadata": {},
     "output_type": "display_data"
    },
    {
     "data": {
      "image/png": "[encoded data removed]",
      "text/plain": [
       "<Figure size 1100x600 with 1 Axes>"
      ]
     },
     "metadata": {},
     "output_type": "display_data"
    },
    {
     "data": {
      "image/png": "[encoded data removed]",
      "text/plain": [
       "<Figure size 1100x600 with 1 Axes>"
      ]
     },
     "metadata": {},
     "output_type": "display_data"
    }
   ],
   "source": [
    "import seaborn as sns\n",
    "import matplotlib.pyplot as plt\n",
    "\n",
    "sns.set_style(\"darkgrid\")\n",
    "\n",
    "plt.figure(figsize=(11,6))\n",
    "invoices['fecha_emision'].hist()\n",
    "plt.title(\"Emisión Facturas\")\n",
    "plt.show()\n",
    "\n",
    "plt.figure(figsize=(11,6))\n",
    "invoices['fecha_vencimiento'].hist()\n",
    "plt.title(\"Vencimiento Facturas\")\n",
    "plt.show()\n",
    "\n",
    "plt.figure(figsize=(11,6))\n",
    "transactions['fecha'].hist()\n",
    "plt.title(\"Fecha Transacciones\")\n",
    "plt.show()"
   ]
  },
  {
   "cell_type": "code",
   "execution_count": 117,
   "id": "902b6b17",
   "metadata": {},
   "outputs": [
    {
     "data": {
      "image/png": "[encoded data removed]",
      "text/plain": [
       "<Figure size 640x480 with 1 Axes>"
      ]
     },
     "metadata": {},
     "output_type": "display_data"
    },
    {
     "data": {
      "image/png": "[encoded data removed]",
      "text/plain": [
       "<Figure size 640x480 with 1 Axes>"
      ]
     },
     "metadata": {},
     "output_type": "display_data"
    }
   ],
   "source": [
    "fig, ax = plt.subplots()\n",
    "sns.histplot(invoices['importe'],  ax=ax)\n",
    "ax.set_title(\"Facturas\")\n",
    "ax.set_xlim(-3000, 3000)\n",
    "ax.set_ylim(0, 58)\n",
    "plt.show()\n",
    "\n",
    "fig, ax = plt.subplots()\n",
    "sns.histplot(transactions['importe'],  ax=ax)\n",
    "ax.set_title(\"Transacciones\")\n",
    "ax.set_xlim(-5000, 5000)\n",
    "ax.set_ylim(0, 135)\n",
    "plt.show()\n"
   ]
  },
  {
   "cell_type": "markdown",
   "id": "9ed49421",
   "metadata": {},
   "source": [
    "#### Funciones auxiliares para relacionar una factura con sus respectivas transacciones"
   ]
  },
  {
   "cell_type": "code",
   "execution_count": 118,
   "id": "144d57e3",
   "metadata": {},
   "outputs": [],
   "source": [
    "def filter_transactions_by_date(transactions, start_date, end_date):\n",
    "    \"\"\"\n",
    "    Filter transactions based on the date range.\n",
    "\n",
    "    Parameters:\n",
    "    transactions (pd.DataFrame): The dataframe containing the transactions.\n",
    "    start_date: The start date of the range.\n",
    "    end_date: The end date of the range.\n",
    "\n",
    "    Returns:\n",
    "    pd.DataFrame: The filtered transactions.\n",
    "    \"\"\"\n",
    "    return transactions[\n",
    "        (transactions['fecha'] <= end_date) &\n",
    "        (transactions['fecha'] >= start_date)\n",
    "    ]\n",
    "\n",
    "\n",
    "def filter_transactions_by_amount(transactions, amount):\n",
    "    \"\"\"\n",
    "    Filter transactions based on the amount.\n",
    "\n",
    "    Parameters:\n",
    "    transactions (pd.DataFrame): The dataframe containing the transactions.\n",
    "    amount (float): The amount to filter by.\n",
    "\n",
    "    Returns:\n",
    "    pd.DataFrame: The filtered transactions.\n",
    "    \"\"\"\n",
    "    return transactions[transactions['importe'] == amount]\n",
    "\n",
    "def find_nearest_transaction(transactions):\n",
    "    \"\"\"\n",
    "    Find the nearest transaction to the invoice issue date.\n",
    "\n",
    "    Parameters:\n",
    "    transactions (pd.DataFrame): The dataframe containing the transactions.\n",
    "\n",
    "    Returns:\n",
    "    pd.DataFrame: The nearest transaction(s).\n",
    "    \"\"\"\n",
    "    if len(transactions) > 1:\n",
    "        return transactions[transactions['fecha'] == transactions['fecha'].min()]\n",
    "    else:\n",
    "        return transactions\n",
    "\n",
    "def filter_transaction_by_keyword(transactions, keyword):\n",
    "    \"\"\"\n",
    "    Filter transactions based on a keyword.\n",
    "\n",
    "    Parameters:\n",
    "    transactions (pd.DataFrame): The dataframe containing the transactions.\n",
    "    keyword (str): The keyword to filter by.\n",
    "\n",
    "    Returns:\n",
    "    pd.DataFrame: The filtered transactions.\n",
    "    \"\"\"\n",
    "    return transactions[transactions['concepto'].str.contains(keyword)]\n"
   ]
  },
  {
   "cell_type": "markdown",
   "id": "da679999",
   "metadata": {},
   "source": [
    "Construimos dos métodos distintos para obtener candidatos potenciales a relacionarse con un factura dada."
   ]
  },
  {
   "cell_type": "code",
   "execution_count": 120,
   "id": "4cc446ad",
   "metadata": {},
   "outputs": [],
   "source": [
    "def find_relative_transactions_comp(invoice: pd.Series, transactions: pd.DataFrame) -> pd.DataFrame:\n",
    "    \"\"\"\n",
    "    Find potential transactions related to the given invoice.\n",
    "\n",
    "    Parameters:\n",
    "    invoice (pd.Series): The dataframe representing the invoice.\n",
    "    transactions (pd.DataFrame): The dataframe containing the transactions.\n",
    "\n",
    "    Returns:\n",
    "    pd.DataFrame: The relevant transaction(s) related to the invoice.\n",
    "    \"\"\"\n",
    "    # Filtrar transacciones realizadas entre el vencimiento y la emisión del invoice\n",
    "    potential_transactions = filter_transactions_by_date(\n",
    "        transactions,\n",
    "        invoice['fecha_emision'],\n",
    "        invoice['fecha_vencimiento']\n",
    "    )\n",
    "\n",
    "    # Filtrar por coincidencia exacta de importes\n",
    "    relevant_transactions = filter_transactions_by_amount(\n",
    "        potential_transactions,\n",
    "        invoice['importe']\n",
    "    )\n",
    "\n",
    "    # Relacionar la factura con la transacción de fecha más cercana a su emisión\n",
    "    relevant_transactions = find_nearest_transaction(relevant_transactions)\n",
    "\n",
    "    # Si hay más de una transaccion relevante nos quedamos con la de id más alto\n",
    "    if len(relevant_transactions) > 1:\n",
    "        relevant_transactions[relevant_transactions['id'] == relevant_transactions['id'].max()]\n",
    "\n",
    "    return relevant_transactions\n"
   ]
  },
  {
   "cell_type": "code",
   "execution_count": 121,
   "id": "c44f918d",
   "metadata": {},
   "outputs": [],
   "source": [
    "def find_relative_transactions_simp(invoice: pd.Series, transactions: pd.DataFrame) -> pd.DataFrame:\n",
    "    \"\"\"\n",
    "    Find transactions related to the given invoice based on the invoice id.\n",
    "\n",
    "    Parameters:\n",
    "    invoice (pd.Series): The dataframe representing the invoice.\n",
    "    transactions (pd.DataFrame): The dataframe containing the transactions.\n",
    "\n",
    "    Returns:\n",
    "    pd.DataFrame: The relevant transaction(s) related to the invoice.\n",
    "    \"\"\"\n",
    "    # Relacionar la factura con la transacción que contenga el id de la factura\n",
    "    relevant_transactions = filter_transaction_by_keyword(\n",
    "        transactions,\n",
    "        keyword=invoice['id']\n",
    "    )\n",
    "    return relevant_transactions"
   ]
  },
  {
   "cell_type": "markdown",
   "id": "ce955797",
   "metadata": {},
   "source": [
    "Ahora necesitamos un método que pueda decidir con qué grupo de transacciones nos debemos quedar para establecer la relación con una factura dada."
   ]
  },
  {
   "cell_type": "code",
   "execution_count": 122,
   "id": "e4c16453",
   "metadata": {},
   "outputs": [],
   "source": [
    "def decide_transactions(invoice: pd.Series, candidate_from_comp: pd.DataFrame, candidate_from_simp: pd.DataFrame) -> pd.DataFrame:\n",
    "    \"\"\"\n",
    "    Decide which candidate transactions to select based on the invoice amount.\n",
    "\n",
    "    Parameters:\n",
    "    invoice (pd.Series): The dataframe representing the invoice.\n",
    "    candidate_from_comp (pd.DataFrame): The candidate transaction(s) from the compound method.\n",
    "    candidate_from_simp (pd.DataFrame): The candidate transaction(s) from the simple method.\n",
    "\n",
    "    Returns:\n",
    "    pd.DataFrame: The selected transaction(s) based on the invoice amount.\n",
    "    \"\"\"\n",
    "    if sum(candidate_from_simp['importe']) == invoice['importe']:\n",
    "        return candidate_from_simp\n",
    "    else:\n",
    "        return candidate_from_comp"
   ]
  },
  {
   "cell_type": "markdown",
   "id": "e355aa1d",
   "metadata": {},
   "source": [
    "#### Funcion principal para procesar todas las facturas y encontrar todas las relaciones respectivas"
   ]
  },
  {
   "cell_type": "code",
   "execution_count": 123,
   "id": "d6f08aa1",
   "metadata": {},
   "outputs": [
    {
     "name": "stdout",
     "output_type": "stream",
     "text": [
      "Se encontraron 87 relaciones para 156 facturas\n"
     ]
    }
   ],
   "source": [
    "def process_invoices_transactions(invoices: pd.DataFrame, transactions: pd.DataFrame) -> Dict[Tuple[str], List[int]]:\n",
    "    \"\"\"\n",
    "    Process invoices and transactions to find relations and return a dictionary of detected relations.\n",
    "\n",
    "    Parameters:\n",
    "    invoices (pd.DataFrame): The dataframe containing the invoices.\n",
    "    transactions (pd.DataFrame): The dataframe containing the transactions.\n",
    "\n",
    "    Returns:\n",
    "    Dict[Tuple[str, float], List[int]]: A dictionary mapping invoice hashes to relevant transaction IDs.\n",
    "    \"\"\"\n",
    "    counter = 0\n",
    "    detected_relations = {}\n",
    "\n",
    "    for _, invoice in invoices.iterrows():\n",
    "        candidates_transactions_1 = find_relative_transactions_comp(invoice, transactions)\n",
    "        candidates_transactions_2 = find_relative_transactions_simp(invoice, transactions)\n",
    "\n",
    "        relevant_transactions = decide_transactions(invoice, candidates_transactions_1, candidates_transactions_2)\n",
    "\n",
    "        key = tuple(invoice['hash'] if pd.isna(invoice['hash']) else [invoice['hash']])\n",
    "        # Se almacenan la relaciones en el diccionario\n",
    "        detected_relations[key] = relevant_transactions['id'].tolist()\n",
    "\n",
    "        counter += len(relevant_transactions)\n",
    "\n",
    "    print(f'Se encontraron {counter} relaciones para {len(invoices)} facturas')\n",
    "    return detected_relations\n",
    "\n",
    "# Uso de la función principal\n",
    "detected_relations = process_invoices_transactions(invoices, transactions)\n"
   ]
  },
  {
   "cell_type": "markdown",
   "id": "487788a0",
   "metadata": {},
   "source": [
    "Ahora se crea un método para guardar a disco el resultado de nuestra función principal con todas las relaciones encontradas. \n",
    "\n",
    "El formato de la salida .json es el siguiente:\n",
    "\n",
    "```\n",
    "{\n",
    "    <relation_id>: {\n",
    "            'invoice_list': [invoice_1, invoice_2, ...], \n",
    "            'transaction_list': [transaction_1, transaction_2, transaction_3, ...]\n",
    "    },\n",
    "}\n",
    "```"
   ]
  },
  {
   "cell_type": "code",
   "execution_count": 124,
   "id": "5e0e6231",
   "metadata": {},
   "outputs": [],
   "source": [
    "import json\n",
    "\n",
    "def parse_output(relations: Dict[Tuple[str], List[int]]) -> Dict[int, Dict[str, List[Union[str, int]]]]:\n",
    "    \"\"\"\n",
    "    Parse the relations dictionary into a specific output format.\n",
    "\n",
    "    Parameters:\n",
    "    relations (Dict[Tuple[str], List[int]]): The dictionary of relations.\n",
    "\n",
    "    Returns:\n",
    "    Dict[int, Dict[str, List[Union[str, int]]]]: The parsed output dictionary.\n",
    "    \"\"\"\n",
    "    output_dict = {}\n",
    "    index = 1\n",
    "\n",
    "    for keys, values in relations.items():\n",
    "        invoice_list = list(keys)\n",
    "        transaction_list = list(values)\n",
    "\n",
    "        output_dict[index] = {\n",
    "            'invoice_list': invoice_list,\n",
    "            'transaction_list': transaction_list\n",
    "        }\n",
    "        index += 1\n",
    "    return output_dict\n",
    "\n",
    "def saveresults2json(results_dict: Dict[int, Dict[str, List[Union[str, int]]]], name_file_output: str) -> None:\n",
    "    \"\"\"\n",
    "    Save the results dictionary to a JSON file.\n",
    "\n",
    "    Parameters:\n",
    "    results_dict (Dict[int, Dict[str, List[Union[str, int]]]]): The dictionary of results.\n",
    "    name_file_output (str): The name of the output JSON file.\n",
    "\n",
    "    Returns:\n",
    "    None\n",
    "    \"\"\"\n",
    "    with open(name_file_output, \"w\") as fp:\n",
    "        json.dump(results_dict, fp)\n",
    "\n",
    "parsed_dict = parse_output(detected_relations)\n",
    "saveresults2json(parsed_dict, 'detected_relations_COMPLETE.json')\n"
   ]
  },
  {
   "cell_type": "markdown",
   "id": "b7d4ceb6",
   "metadata": {},
   "source": [
    "#### STEP2 - Incluisón del hyperparametro: **date_window** en el método compuesto para considerar transacciones por _facturas vencidas_"
   ]
  },
  {
   "cell_type": "code",
   "execution_count": 125,
   "id": "5842ae26",
   "metadata": {},
   "outputs": [],
   "source": [
    "def filter_transactions_by_date(transactions, start_date, end_date, date_window):\n",
    "    \"\"\"\n",
    "    Filter transactions based on the date range.\n",
    "\n",
    "    Parameters:\n",
    "    transactions (pd.DataFrame): The dataframe containing the transactions.\n",
    "    start_date: The start date of the range.\n",
    "    end_date: The end date of the range.\n",
    "    date_window: The date window to use in the filter.\n",
    "\n",
    "    Returns:\n",
    "    pd.DataFrame: The filtered transactions.\n",
    "    \"\"\"\n",
    "    return transactions[\n",
    "        (transactions['fecha'] - date_window <= end_date) &\n",
    "        (transactions['fecha'] >= start_date)\n",
    "    ]\n",
    "\n",
    "# Método compuesto para la búsqueda de transacciones potenciales\n",
    "def find_relative_transactions_comp(invoice: pd.Series, transactions: pd.DataFrame, date_window: timedelta) -> pd.DataFrame:\n",
    "    \"\"\"\n",
    "    Find potential transactions related to the given invoice.\n",
    "\n",
    "    Parameters:\n",
    "    invoice (pd.Series): The dataframe representing the invoice.\n",
    "    transactions (pd.DataFrame): The dataframe containing the transactions.\n",
    "    date_window (timedelta): The date window to use in the filter.\n",
    "\n",
    "    Returns:\n",
    "    pd.DataFrame: The relevant transaction(s) related to the invoice.\n",
    "    \"\"\"\n",
    "    potential_transactions = filter_transactions_by_date(\n",
    "        transactions,\n",
    "        invoice['fecha_emision'],\n",
    "        invoice['fecha_vencimiento'],\n",
    "        date_window\n",
    "    )\n",
    "    relevant_transactions = filter_transactions_by_amount(\n",
    "        potential_transactions,\n",
    "        invoice['importe']\n",
    "    )\n",
    "    relevant_transactions = find_nearest_transaction(relevant_transactions)\n",
    "    if len(relevant_transactions) > 1:\n",
    "        relevant_transactions[relevant_transactions['id'] == relevant_transactions['id'].max()]\n",
    "    return relevant_transactions\n"
   ]
  },
  {
   "cell_type": "code",
   "execution_count": 126,
   "id": "4566aa82",
   "metadata": {},
   "outputs": [
    {
     "name": "stdout",
     "output_type": "stream",
     "text": [
      "Se encontraron 89 relaciones para 156 facturas\n"
     ]
    }
   ],
   "source": [
    "# Funcion principal para procesar todas las facturas\n",
    "def process_invoices_transactions(invoices: pd.DataFrame, transactions: pd.DataFrame, days_window: int=0) -> Dict[Tuple[str], List[int]]:\n",
    "    \"\"\"\n",
    "    Process invoices and transactions to find relations and return a dictionary of detected relations.\n",
    "\n",
    "    Parameters:\n",
    "    invoices (pd.DataFrame): The dataframe containing the invoices.\n",
    "    transactions (pd.DataFrame): The dataframe containing the transactions.\n",
    "    days_window(int): The number of days to use in the filter.\n",
    "\n",
    "    Returns:\n",
    "    Dict[Tuple[str, float], List[int]]: A dictionary mapping invoice hashes to relevant transaction IDs.\n",
    "    \"\"\"\n",
    "    date_window = timedelta(days=days_window)\n",
    "    counter = 0\n",
    "    detected_relations = {}\n",
    "\n",
    "    for _, invoice in invoices.iterrows():\n",
    "        candidates_transactions_1 = find_relative_transactions_comp(invoice, transactions, date_window)\n",
    "        candidates_transactions_2 = find_relative_transactions_simp(invoice, transactions)\n",
    "\n",
    "        relevant_transactions = decide_transactions(invoice, candidates_transactions_1, candidates_transactions_2)\n",
    "\n",
    "        key = tuple(invoice['hash'] if pd.isna(invoice['hash']) else [invoice['hash']])\n",
    "        # Se almacenan la relaciones en el diccionario\n",
    "        detected_relations[key] = relevant_transactions['id'].tolist()\n",
    "\n",
    "        counter += len(relevant_transactions)\n",
    "\n",
    "    print(f'Se encontraron {counter} relaciones para {len(invoices)} facturas')\n",
    "    return detected_relations\n",
    "\n",
    "# Uso de la función principal\n",
    "detected_relations = process_invoices_transactions(invoices, transactions, days_window=1)\n",
    "\n",
    "# Guardar a disco los resultados\n",
    "parsed_dict = parse_output(detected_relations)\n",
    "saveresults2json(parsed_dict, 'detected_relations_HYPERPARAM_COMPLETE.json')"
   ]
  },
  {
   "cell_type": "markdown",
   "id": "9253010d",
   "metadata": {},
   "source": [
    "## Test"
   ]
  },
  {
   "cell_type": "markdown",
   "id": "0a5d18d6",
   "metadata": {},
   "source": [
    "Construimos un conjunto de test compuesto por 26 facturas y 40 transacciones. \n",
    "\n",
    "Entre las mismas incluímos 23 RELACIONES VALIDAS ENTRE 25 FACTURAS Y 28 TRANSACCIONES, de las cuales 18 son **1:1**, 3 son del tipo **1:N**, 1 es **N:1** y 1 es **parcial**. "
   ]
  },
  {
   "cell_type": "code",
   "execution_count": 127,
   "id": "80c38bd2",
   "metadata": {},
   "outputs": [],
   "source": [
    "relations = {\n",
    "    ('fsabv-2363##mitanni consultores asoc, s.l.p.', ): (221, ),\n",
    "    ('fsabv-2632##pepemobile sl', ): (100, ),\n",
    "    ('fsabv-2630##mitanni consultores asoc, s.l.p.', ): (243, ),\n",
    "    ('fsabv-2651##masvoz telecomunicaciones interactivas, s.l.', ): (265, ),\n",
    "    ('fsabv-2518##masvoz telecomunicaciones interactivas, s.l.', ): (256, ),\n",
    "    ('fsabv-2662##aigues de barcelona, empresa metropolitana de gestio aigua', ): (107, ),\n",
    "    ('fvi-45##eloelo', ): (152, ),\n",
    "    ('fvi-47##medios', ): (24, ),\n",
    "    ('fve-12855##equipzilla, s.l.', ): (134, ),\n",
    "    ('fsabv-2369##nan', ): (39, ),\n",
    "    ('fsabv-2564##nan', ): (271, ),\n",
    "    ('fsabv-2639##nan', ): (73, ),\n",
    "    ('fsabv-2497##telefonica moviles espana, s.a.', ): (57, ),\n",
    "    ('fsabv-2200##tomas gil', ): (112, ),\n",
    "    ('fsabv-2553##tomas gil', ): (143, ),\n",
    "    ('fsabv-2285##tomas gil', ): (31, ),\n",
    "    ('fve-12850##property technology services, s.l.', ): (33, ),\n",
    "    ('fve-12852##property technology services, s.l.', ): (241, ),\n",
    "    ('feqz-75##gam espana servicios de maquinaria s.l.u.',\n",
    "      'feqz-74##gam espana servicios de maquinaria s.l.u.',\n",
    "      'feqz-85##gam espana servicios de maquinaria s.l.u.'): (3, ),\n",
    "    ('10002183##remesasbancos', ): (30, 81, 18, 92),\n",
    "    ('10002227##remesasbancos', ): (188, 124),\n",
    "    ('10002238##remesasbancos', ): (262, 55),\n",
    "    ('fvi-48##maks inventada sl', ): (122, )\n",
    "}"
   ]
  },
  {
   "cell_type": "markdown",
   "id": "8bb99f77",
   "metadata": {},
   "source": [
    "Cargamos el conjunto de TEST y realizamos el pre-procesamiento de los datos."
   ]
  },
  {
   "cell_type": "code",
   "execution_count": 128,
   "id": "1096f5de",
   "metadata": {},
   "outputs": [],
   "source": [
    "import pandas as pd\n",
    "from datetime import timedelta\n",
    "\n",
    "invoices_test = pd.read_csv(\"invoices_TEST.csv\")\n",
    "transactions_test = pd.read_csv(\"transactions_TEST.csv\")\n",
    "\n",
    "normalize_names(invoices_test, 'hash')\n",
    "normalize_names(invoices_test, 'nombre_cliente')\n",
    "normalize_names(invoices_test, 'id')\n",
    "normalize_names(invoices_test, 'concepto')\n",
    "normalize_names(transactions_test, 'concepto')\n",
    "\n",
    "invoices_test['fecha_vencimiento'] = pd.to_datetime(invoices_test['fecha_vencimiento'])\n",
    "invoices_test['fecha_emision'] = pd.to_datetime(invoices_test['fecha_emision'])\n",
    "transactions_test['fecha'] = pd.to_datetime(transactions_test['fecha'])\n",
    "invoices_test['importe'] = invoices_test['importe'].map(lambda val: val.replace(',', '.')).astype(float)\n",
    "transactions_test['importe'] = transactions_test['importe'].map(lambda val: val.replace(',', '.')).astype(float)\n"
   ]
  },
  {
   "cell_type": "markdown",
   "id": "296a340e",
   "metadata": {},
   "source": [
    "##### Contabilizamos la cantidad de relaciones encontradas correctamente para cierto valor de nuesto hyperparametro *date_window*"
   ]
  },
  {
   "cell_type": "code",
   "execution_count": 131,
   "id": "f474107f",
   "metadata": {},
   "outputs": [
    {
     "name": "stdout",
     "output_type": "stream",
     "text": [
      "Se encontraron 17 relaciones para 26 facturas\n",
      "\n",
      "\n",
      "Relaciones para ('fsabv-2363##mitanni consultores asoc, s.l.p.',) detectadas correctamente.\n",
      "Relaciones para ('fsabv-2632##pepemobile sl',) detectadas correctamente.\n",
      "Relaciones para ('fsabv-2630##mitanni consultores asoc, s.l.p.',) detectadas correctamente.\n",
      "Relaciones para ('fsabv-2651##masvoz telecomunicaciones interactivas, s.l.',) detectadas correctamente.\n",
      "Relaciones para ('fsabv-2518##masvoz telecomunicaciones interactivas, s.l.',) detectadas correctamente.\n",
      "Relaciones para ('fsabv-2662##aigues de barcelona, empresa metropolitana de gestio aigua',) detectadas correctamente.\n",
      "Relaciones para ('fvi-45##eloelo',) detectadas correctamente.\n",
      "Relaciones para ('fvi-47##medios',) detectadas correctamente.\n",
      "Relaciones para ('fve-12855##equipzilla, s.l.',) detectadas correctamente.\n",
      "Relaciones para ('fsabv-2369##nan',) detectadas correctamente.\n",
      "Relaciones para ('fsabv-2564##nan',) detectadas correctamente.\n",
      "Relaciones para ('fsabv-2639##nan',) detectadas correctamente.\n",
      "Relaciones para ('fsabv-2497##telefonica moviles espana, s.a.',) detectadas correctamente.\n",
      "Relaciones para ('fsabv-2553##tomas gil',) detectadas correctamente.\n",
      "Relaciones para ('fve-12850##property technology services, s.l.',) detectadas correctamente.\n",
      "Relaciones para ('fve-12852##property technology services, s.l.',) detectadas correctamente.\n",
      "\n",
      "\n",
      "Total de relaciones correctas: 16 de 23\n"
     ]
    }
   ],
   "source": [
    "detected_relations_test = process_invoices_transactions(invoices_test, transactions_test, days_window=15)\n",
    "\n",
    "# Inicializamos el contador de relaciones correctas\n",
    "check_relations = 0\n",
    "\n",
    "# Iteramos sobre las relaciones en el diccionario de relaciones\n",
    "print('\\n')\n",
    "for invoice, expected_transactions in relations.items():\n",
    "    # Verificamos si las transacciones detectadas coinciden con las esperadas\n",
    "    detected_transactions = detected_relations_test.get(invoice, [])\n",
    "\n",
    "    if set(detected_transactions) == set(expected_transactions):\n",
    "        print(f\"Relaciones para {invoice} detectadas correctamente.\")\n",
    "        check_relations += 1\n",
    "\n",
    "# Se muestra el resultado final\n",
    "print('\\n')\n",
    "print(f\"Total de relaciones correctas: {check_relations} de {len(relations)}\")"
   ]
  },
  {
   "cell_type": "code",
   "execution_count": null,
   "id": "3050075b",
   "metadata": {},
   "outputs": [],
   "source": []
  },
  {
   "cell_type": "code",
   "execution_count": null,
   "id": "05fab7f2",
   "metadata": {},
   "outputs": [],
   "source": []
  },
  {
   "cell_type": "markdown",
   "id": "df4009fe",
   "metadata": {},
   "source": []
  },
  {
   "cell_type": "markdown",
   "id": "f0a08305",
   "metadata": {},
   "source": [
    "# Ideas para abordar los casos restantes: _N:1_ y _parciales_."
   ]
  },
  {
   "cell_type": "markdown",
   "id": "ca59b709",
   "metadata": {},
   "source": [
    "**Relaciones N:1**\n",
    "\n",
    "* Relaciones por Cliente o Concepto:\n",
    "\n",
    "Se puedem armar conjuntos de facturas teniendo en cuenta el cliente y/o el concepto, también  de transacciones por el mismo nombre en el concepto y luego intentar relacionar cada grupo de facturas con el grupo correspondiente de transacciones. Esto podría manejar casos donde varias facturas están asociadas a un solo pago. \n",
    "\n",
    "* Observar el Importe Total:\n",
    "\n",
    "Como un caso particular del anterior, si se tienen múltiples facturas para un mismo cliente y una transacción con un importe que coincide, sería posible establecer relación. También se puede establecer que se deban chequear posibles coincidencias entre las sumas dadas por todos los subconjuntos de estas facturas agrupadas por cliente y la transacción objetivo.\n",
    "\n",
    "* Fecha y Monto:\n",
    "\n",
    "De la misma forma que el primer punto pero relacionando las facturas y transacciones por la fecha y el monto para combinar las facturas y transacciones con fechas y montos cercanos. Esto a su vez podría abordar pagos parciales donde varias facturas comparten una transacción.\n",
    "\n",
    "* Inclusión de un nuevo hiperparámetro: *tol_importe*:\n",
    "\n",
    "Así como se incluyó el parámetro *date_window*, sería interesante incluir en la implementación del punto anterior un parámetro que permita una tolerancia a la hora de chequear que dos importes coinciden.\n",
    "\n",
    "\n"
   ]
  },
  {
   "cell_type": "markdown",
   "id": "d79c54b8",
   "metadata": {},
   "source": []
  },
  {
   "cell_type": "markdown",
   "id": "166a147e",
   "metadata": {},
   "source": []
  },
  {
   "cell_type": "markdown",
   "id": "2e4d5599",
   "metadata": {},
   "source": [
    "**Pagos Parciales**\n",
    "\n",
    "* Conjuntos por ID y Cliente:\n",
    "\n",
    "Se busca crear conjuntos de transacciones en función de palabras claves en el campo \"concepto\" para relacionarlos al ID de las facturas y los clientes. Si hay múltiples transacciones para una factura, se puede sumar los importes y comparar con el importe total de la factura y así establecer si es un pago parcial. Aquí nuevamente debemos chequear que las transacciones candidatas a ser pagos parciales deben ser realizadas en fechas \"cercanas\" al periodo de vigencia de la/s factura/s corespondiente.\n",
    "\n",
    "* Explorar el \"concepto\" de las transacciones:\n",
    "\n",
    "Si una factura se paga parcialmente, el concepto de la transacción puede indicar claramente que se trata de un pago parcial.\n",
    "\n",
    "* Fechas y Montos:\n",
    "\n",
    "Se pueden tomar las facturas que no relacionadas con transacciones de la forma 1:1 ni 1:N y considerar como sus potenciales candidatos a transacciones de pagos parciales todas aquellas transacciones por montos menores realizadas luego de su fecha de emisión. Luego se pueden utilizar los dos puntos anteriores para filtrar cuáles de esas transacciones pueden ser consideradas relevantes para ser pagos parciales.\n",
    "\n"
   ]
  },
  {
   "cell_type": "code",
   "execution_count": null,
   "id": "3b231e0c",
   "metadata": {},
   "outputs": [],
   "source": []
  },
  {
   "cell_type": "code",
   "execution_count": null,
   "id": "28bde3d3",
   "metadata": {},
   "outputs": [],
   "source": []
  },
  {
   "cell_type": "code",
   "execution_count": null,
   "id": "7136af45",
   "metadata": {},
   "outputs": [],
   "source": []
  },
  {
   "cell_type": "code",
   "execution_count": null,
   "id": "6f17775f",
   "metadata": {},
   "outputs": [],
   "source": []
  }
 ],
 "metadata": {
  "kernelspec": {
   "display_name": "Python 3 (ipykernel)",
   "language": "python",
   "name": "python3"
  },
  "language_info": {
   "codemirror_mode": {
    "name": "ipython",
    "version": 3
   },
   "file_extension": ".py",
   "mimetype": "text/x-python",
   "name": "python",
   "nbconvert_exporter": "python",
   "pygments_lexer": "ipython3",
   "version": "3.10.6"
  }
 },
 "nbformat": 4,
 "nbformat_minor": 5
}
